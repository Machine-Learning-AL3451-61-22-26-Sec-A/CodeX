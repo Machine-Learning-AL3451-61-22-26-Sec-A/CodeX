{
 "cells": [
  {
   "cell_type": "code",
   "execution_count": 1,
   "id": "4afeecd2-f598-4af5-9584-07cae0122d3b",
   "metadata": {},
   "outputs": [
    {
     "name": "stdout",
     "output_type": "stream",
     "text": [
      "Requirement already satisfied: numpy in c:\\users\\aishw\\appdata\\local\\programs\\python\\python311\\lib\\site-packages (1.24.2)\n",
      "Note: you may need to restart the kernel to use updated packages.\n"
     ]
    }
   ],
   "source": [
    "pip install numpy\n"
   ]
  },
  {
   "cell_type": "code",
   "execution_count": 2,
   "id": "4220342d-fe02-460b-bbaa-654d34468b3a",
   "metadata": {},
   "outputs": [
    {
     "name": "stdout",
     "output_type": "stream",
     "text": [
      "Requirement already satisfied: pandas in c:\\users\\aishw\\appdata\\local\\programs\\python\\python311\\lib\\site-packages (1.5.3)\n",
      "Requirement already satisfied: python-dateutil>=2.8.1 in c:\\users\\aishw\\appdata\\local\\programs\\python\\python311\\lib\\site-packages (from pandas) (2.8.2)\n",
      "Requirement already satisfied: pytz>=2020.1 in c:\\users\\aishw\\appdata\\local\\programs\\python\\python311\\lib\\site-packages (from pandas) (2023.3)\n",
      "Requirement already satisfied: numpy>=1.21.0 in c:\\users\\aishw\\appdata\\local\\programs\\python\\python311\\lib\\site-packages (from pandas) (1.24.2)\n",
      "Requirement already satisfied: six>=1.5 in c:\\users\\aishw\\appdata\\local\\programs\\python\\python311\\lib\\site-packages (from python-dateutil>=2.8.1->pandas) (1.16.0)\n",
      "Note: you may need to restart the kernel to use updated packages.\n"
     ]
    }
   ],
   "source": [
    "pip install pandas"
   ]
  },
  {
   "cell_type": "code",
   "execution_count": 5,
   "id": "4c877c92-d3d1-440a-8b1c-60edde0088cb",
   "metadata": {},
   "outputs": [],
   "source": [
    "import numpy as np  \n",
    "import pandas as pd  \n",
    "data = pd.DataFrame(data=pd.read_excel('enjoysport.xlsx'))  \n"
   ]
  },
  {
   "cell_type": "code",
   "execution_count": 9,
   "id": "0ab06e10-b5b3-400d-ba9c-ba89d492e748",
   "metadata": {},
   "outputs": [
    {
     "name": "stdout",
     "output_type": "stream",
     "text": [
      "[['sunny' 'warm' 'normal' 'strong' 'warm' 'same']\n",
      " ['sunny' 'warm' 'high' 'strong' 'warm' 'same']\n",
      " ['rainy' 'cold' 'high' 'strong' 'warm' 'change']\n",
      " ['sunny' 'warm' 'high' 'strong' 'cool' 'change']]\n",
      "['yes' 'yes' 'no' 'yes']\n",
      "initialization of specific_h and general_h\n",
      "['sunny' 'warm' 'normal' 'strong' 'warm' 'same']\n",
      "[['?', '?', '?', '?', '?', '?'], ['?', '?', '?', '?', '?', '?'], ['?', '?', '?', '?', '?', '?'], ['?', '?', '?', '?', '?', '?'], ['?', '?', '?', '?', '?', '?'], ['?', '?', '?', '?', '?', '?']]\n",
      "['sunny' 'warm' 'normal' 'strong' 'warm' 'same']\n",
      "['sunny' 'warm' 'normal' 'strong' 'warm' 'same']\n",
      "['sunny' 'warm' 'normal' 'strong' 'warm' 'same']\n",
      "['sunny' 'warm' 'normal' 'strong' 'warm' 'same']\n",
      "['sunny' 'warm' 'normal' 'strong' 'warm' 'same']\n",
      "['sunny' 'warm' 'normal' 'strong' 'warm' 'same']\n",
      "['sunny' 'warm' 'normal' 'strong' 'warm' 'same']\n",
      " steps of Candidate Elimination Algorithm 1\n",
      "['sunny' 'warm' 'normal' 'strong' 'warm' 'same']\n",
      "[['?', '?', '?', '?', '?', '?'], ['?', '?', '?', '?', '?', '?'], ['?', '?', '?', '?', '?', '?'], ['?', '?', '?', '?', '?', '?'], ['?', '?', '?', '?', '?', '?'], ['?', '?', '?', '?', '?', '?']]\n",
      "['sunny' 'warm' 'normal' 'strong' 'warm' 'same']\n",
      "['sunny' 'warm' 'normal' 'strong' 'warm' 'same']\n",
      "['sunny' 'warm' '?' 'strong' 'warm' 'same']\n",
      "['sunny' 'warm' '?' 'strong' 'warm' 'same']\n",
      "['sunny' 'warm' '?' 'strong' 'warm' 'same']\n",
      "['sunny' 'warm' '?' 'strong' 'warm' 'same']\n",
      "['sunny' 'warm' '?' 'strong' 'warm' 'same']\n",
      " steps of Candidate Elimination Algorithm 2\n",
      "['sunny' 'warm' '?' 'strong' 'warm' 'same']\n",
      "[['?', '?', '?', '?', '?', '?'], ['?', '?', '?', '?', '?', '?'], ['?', '?', '?', '?', '?', '?'], ['?', '?', '?', '?', '?', '?'], ['?', '?', '?', '?', '?', '?'], ['?', '?', '?', '?', '?', '?']]\n",
      "['sunny' 'warm' '?' 'strong' 'warm' 'same']\n",
      " steps of Candidate Elimination Algorithm 3\n",
      "['sunny' 'warm' '?' 'strong' 'warm' 'same']\n",
      "[['sunny', '?', '?', '?', '?', '?'], ['?', 'warm', '?', '?', '?', '?'], ['?', '?', '?', '?', '?', '?'], ['?', '?', '?', '?', '?', '?'], ['?', '?', '?', '?', '?', '?'], ['?', '?', '?', '?', '?', 'same']]\n",
      "['sunny' 'warm' '?' 'strong' 'warm' 'same']\n",
      "['sunny' 'warm' '?' 'strong' 'warm' 'same']\n",
      "['sunny' 'warm' '?' 'strong' 'warm' 'same']\n",
      "['sunny' 'warm' '?' 'strong' 'warm' 'same']\n",
      "['sunny' 'warm' '?' 'strong' '?' 'same']\n",
      "['sunny' 'warm' '?' 'strong' '?' '?']\n",
      "['sunny' 'warm' '?' 'strong' '?' '?']\n",
      " steps of Candidate Elimination Algorithm 4\n",
      "['sunny' 'warm' '?' 'strong' '?' '?']\n",
      "[['sunny', '?', '?', '?', '?', '?'], ['?', 'warm', '?', '?', '?', '?'], ['?', '?', '?', '?', '?', '?'], ['?', '?', '?', '?', '?', '?'], ['?', '?', '?', '?', '?', '?'], ['?', '?', '?', '?', '?', '?']]\n",
      "Final Specific_h:\n",
      "['sunny' 'warm' '?' 'strong' '?' '?']\n",
      "Final General_h:\n",
      "[['sunny', '?', '?', '?', '?', '?'], ['?', 'warm', '?', '?', '?', '?']]\n"
     ]
    }
   ],
   "source": [
    "concepts = np.array(data.iloc[:,0:-1]) \n",
    "print(concepts)  \n",
    "target = np.array(data.iloc[:,-1])   \n",
    "print(target) \n",
    " \n",
    "def learn(concepts, target):  \n",
    "    specific_h = concepts[0].copy()      \n",
    "    print(\"initialization of specific_h and general_h\")      \n",
    "    print(specific_h)   \n",
    "    general_h = [[\"?\" for i in range(len(specific_h))] for i in \n",
    "range(len(specific_h))]      \n",
    "    print(general_h)   \n",
    "    for i, h in enumerate(concepts):  \n",
    "        if target[i] == \"yes\":  \n",
    "            for x in range(len(specific_h)):  \n",
    "                if h[x]!= specific_h[x]:                     \n",
    "                    specific_h[x] ='?'                      \n",
    "                    general_h[x][x] ='?' \n",
    "                print(specific_h) \n",
    "        print(specific_h) \n",
    "        if target[i] == \"no\":             \n",
    "            for x in range(len(specific_h)):  \n",
    "                if h[x]!= specific_h[x]:                     \n",
    "                    general_h[x][x] = specific_h[x]                 \n",
    "                else:                     \n",
    "                    general_h[x][x] = '?'         \n",
    "        print(\" steps of Candidate Elimination Algorithm\",i+1)        \n",
    "        print(specific_h)          \n",
    "        print(general_h)   \n",
    "    indices = [i for i, val in enumerate(general_h) if val == \n",
    "['?', '?', '?', '?', '?', '?']]     \n",
    "    for i in indices:    \n",
    "        general_h.remove(['?', '?', '?', '?', '?', '?'])  \n",
    "    return specific_h, general_h  \n",
    "s_final, g_final = learn(concepts, target) \n",
    "print(\"Final Specific_h:\", s_final, sep=\"\\n\") \n",
    "print(\"Final General_h:\", g_final, sep=\"\\n\")"
   ]
  },
  {
   "cell_type": "code",
   "execution_count": null,
   "id": "8d77a393-a1df-4a79-ac3c-19aa1c00cd57",
   "metadata": {},
   "outputs": [],
   "source": []
  }
 ],
 "metadata": {
  "kernelspec": {
   "display_name": "Python 3 (ipykernel)",
   "language": "python",
   "name": "python3"
  },
  "language_info": {
   "codemirror_mode": {
    "name": "ipython",
    "version": 3
   },
   "file_extension": ".py",
   "mimetype": "text/x-python",
   "name": "python",
   "nbconvert_exporter": "python",
   "pygments_lexer": "ipython3",
   "version": "3.11.2"
  }
 },
 "nbformat": 4,
 "nbformat_minor": 5
}
